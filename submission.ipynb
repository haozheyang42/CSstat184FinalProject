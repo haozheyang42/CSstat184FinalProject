{
 "cells": [
  {
   "cell_type": "markdown",
   "metadata": {},
   "source": [
    "# Breaking Isolation: A Localized Monte Carlo Tree Search Approach\n",
    "Minjae Kim, Shu Yang Wei, Stephen Yang\n",
    "\n",
    "- Env specification is detailed in `env.yml`\n",
    "- Bots are detailed in `bots.py`\n",
    "- Isolation game environment is detailed in `isolation_env.py`\n",
    "- A human-playable Isolation game environment is detailed in `isolation_human.py`\n",
    "- A DQN implementation using the Tianshou RL library is detailed in `tianshou_train.py`"
   ]
  },
  {
   "cell_type": "code",
   "execution_count": 1,
   "metadata": {},
   "outputs": [
    {
     "name": "stderr",
     "output_type": "stream",
     "text": [
      "<frozen importlib._bootstrap>:219: RuntimeWarning: Your system is avx2 capable but pygame was not built with support for it. The performance of some of your blits could be adversely affected. Consider enabling compile time detection with environment variables like PYGAME_DETECT_AVX2=1 if you are compiling without cross compilation.\n"
     ]
    },
    {
     "name": "stdout",
     "output_type": "stream",
     "text": [
      "pygame 2.5.2 (SDL 2.30.10, Python 3.8.20)\n",
      "Hello from the pygame community. https://www.pygame.org/contribute.html\n"
     ]
    }
   ],
   "source": [
    "import matplotlib.pyplot as plt\n",
    "from matplotlib.ticker import FuncFormatter\n",
    "from itertools import product\n",
    "import seaborn as sns\n",
    "import datetime\n",
    "import numpy as np\n",
    "import copy\n",
    "import ast\n",
    "\n",
    "import isolation_env\n",
    "from bots import RandomBot, HeuristicBot, MCTSBot, MCTSRicherBot, MCTSBiggerBot, DQNBot, QStarBot\n"
   ]
  },
  {
   "cell_type": "markdown",
   "metadata": {},
   "source": [
    "## Training the MCTS bot"
   ]
  },
  {
   "cell_type": "code",
   "execution_count": 2,
   "metadata": {},
   "outputs": [],
   "source": [
    "BOARD_SIZE = (6, 8)\n",
    "\n",
    "def run_one_game(bots, env, test=False):\n",
    "\n",
    "    for agent in env.agent_iter():\n",
    "        id = ['player_0', 'player_1'].index(agent)\n",
    "        observation, reward, termination, truncation, info = env.last()\n",
    "        \n",
    "        if termination or truncation:\n",
    "            if not test:\n",
    "                bots[id].learn(observation, reward)\n",
    "            action = None\n",
    "            if reward == 1:\n",
    "                winner = agent\n",
    "\n",
    "        else:\n",
    "            action = bots[id].take_step(observation)\n",
    "\n",
    "        env.step(action)\n",
    "    \n",
    "    return winner\n",
    "\n",
    "def run_games(bots, num_games, test=False, shaping=False):\n",
    "    env = isolation_env.env(board_size=BOARD_SIZE, shaping=False, render_mode=None)\n",
    "    env.reset()\n",
    "\n",
    "    batch_win_rates = []\n",
    "    batch_wins = 0\n",
    "    batch_size = 100\n",
    "\n",
    "    for i in range(num_games):\n",
    "        winner = run_one_game(bots, env, test=test)\n",
    "        env.reset()\n",
    "        \n",
    "        if winner == \"player_0\":\n",
    "            batch_wins += 1\n",
    "\n",
    "        if i % batch_size == batch_size - 1:\n",
    "            batch = i // batch_size\n",
    "            batch_win_rate = batch_wins / batch_size\n",
    "\n",
    "            timestamp = datetime.datetime.now().strftime(\"%H:%M:%S\")\n",
    "            print(\"{} Batch {} Win Percentage: {:.0%}\".format(timestamp, batch, batch_win_rate))\n",
    "            \n",
    "            batch_win_rates.append(batch_win_rate)\n",
    "            batch_wins = 0\n",
    "\n",
    "    env.close()\n",
    "    return batch_win_rates"
   ]
  },
  {
   "cell_type": "code",
   "execution_count": null,
   "metadata": {},
   "outputs": [],
   "source": [
    "mcts_bots = []\n",
    "mcts_train_data = []\n",
    "hb = HeuristicBot(board_size=BOARD_SIZE)\n",
    "\n",
    "for _ in range(25):\n",
    "    b = MCTSBot(board_size=BOARD_SIZE)\n",
    "    mcts_bots.append(b)\n",
    "    mcts_train_data.append(run_games([b, hb], 30000))"
   ]
  },
  {
   "cell_type": "code",
   "execution_count": null,
   "metadata": {},
   "outputs": [],
   "source": [
    "# Plot train performance of all MCTS bots\n",
    "sns.set(style=\"whitegrid\")\n",
    "\n",
    "data_array = np.array(mcts_train_data)\n",
    "mean = np.mean(data_array, axis=0)\n",
    "\n",
    "for l in data_array:\n",
    "    plt.plot(l, color='lightblue', alpha=0.2)\n",
    "\n",
    "plt.plot(mean, color='blue', linewidth=2, label='Mean')\n",
    "\n",
    "plt.xlabel('Batch')\n",
    "plt.ylabel('Win % against HeuristicBot')\n",
    "plt.title('Train Performance of MCTSBot, All Trains')\n",
    "plt.legend()\n",
    "plt.show()"
   ]
  },
  {
   "cell_type": "code",
   "execution_count": null,
   "metadata": {},
   "outputs": [],
   "source": [
    "# Plot train performance of select MCTS bots\n",
    "cutoff = 0.4\n",
    "\n",
    "data_array = np.array([l for l in mcts_train_data if l[-1] > cutoff])\n",
    "mean = np.mean(data_array, axis=0)\n",
    "\n",
    "for l in data_array:\n",
    "    plt.plot(l, color='lightblue', alpha=0.4)\n",
    "\n",
    "plt.plot(mean, color='blue', linewidth=2, label='Mean')\n",
    "\n",
    "plt.xlabel('Batch')\n",
    "plt.ylabel('Win % against HeuristicBot')\n",
    "plt.title('Train Performance of MCTSBot, Selected')\n",
    "plt.legend()\n",
    "plt.show()"
   ]
  },
  {
   "cell_type": "code",
   "execution_count": null,
   "metadata": {},
   "outputs": [],
   "source": [
    "rb = RandomBot()\n",
    "hb = HeuristicBot(board_size=BOARD_SIZE)\n",
    "\n",
    "wins_random = []\n",
    "wins_heuristic = []\n",
    "\n",
    "for b in mcts_bots:\n",
    "    b.exploration_weight = 0\n",
    "\n",
    "    wins_random.append(run_games([b, rb], 500, test=True))\n",
    "    wins_heuristic.append(run_games([b, hb], 500, test=True))"
   ]
  },
  {
   "cell_type": "code",
   "execution_count": null,
   "metadata": {},
   "outputs": [],
   "source": [
    "# Plot test performance (no exploration)\n",
    "c = list(zip(wins_random, wins_heuristic))\n",
    "s = sorted(c, key=lambda x: x[1], reverse=True)\n",
    "sorted_random, sorted_heuristic = zip(*s)\n",
    "\n",
    "xs = np.arange(len(sorted_random))\n",
    "plt.scatter(xs, sorted_random, label='Wins against RandomBot')\n",
    "plt.scatter(xs, sorted_heuristic, label='Wins against HeuristicBot')\n",
    "\n",
    "plt.xlabel('Bot')\n",
    "plt.ylabel('% Wins in 500 Games')\n",
    "plt.legend()\n",
    "plt.grid(True)\n",
    "plt.title(\"Test Performance of 25 MCTSBots against HeuristicBot\")\n",
    "plt.show()"
   ]
  },
  {
   "cell_type": "code",
   "execution_count": null,
   "metadata": {},
   "outputs": [],
   "source": [
    "# Plot state visits\n",
    "bins = [1, 2, 10, 100, 1000, 1000000, 10000000]\n",
    "bin_labels = ['0', '1', '2', '3-10', '11-100', '101-1000', '1000+']\n",
    "\n",
    "counts, _ = np.histogram(list(mcts_bots[0].STATS_MOVE_VISITED.values()), bins=bins)\n",
    "counts = [1044 - len(mcts_bots[0].STATS_MOVE_VISITED)] + list(counts)\n",
    "\n",
    "plt.bar(bin_labels, counts, alpha=0.7)\n",
    "\n",
    "plt.xlabel('# of Visits to State')\n",
    "plt.ylabel('# of States (Log Scale)')\n",
    "plt.title('MCTSBot, # of Move States by Visits')\n",
    "\n",
    "plt.xticks(rotation=45)\n",
    "def format_ticks(x, pos):\n",
    "    return f'{int(x):,}'\n",
    "formatter = FuncFormatter(format_ticks)\n",
    "plt.gca().yaxis.set_major_formatter(formatter)\n",
    "plt.tight_layout()\n",
    "plt.show()"
   ]
  },
  {
   "cell_type": "markdown",
   "metadata": {},
   "source": [
    "## Training MCTSRicherBot"
   ]
  },
  {
   "cell_type": "code",
   "execution_count": null,
   "metadata": {},
   "outputs": [],
   "source": [
    "# Count number of star states\n",
    "# And number of canonical rotations\n",
    "ROTATIONS = np.array([\n",
    "    [0, 1, 2, 3, 4, 5, 6, 7, 8, 9, 10, 11],  # 0° (no rotation)\n",
    "    [7, 3, 6, 10, 0, 2, 9, 11, 1, 5, 8, 4],  # 90° CW\n",
    "    [11, 10, 9, 8, 7, 6, 5, 4, 3, 2, 1, 0],  # 180° CW\n",
    "    [4, 8, 5, 1, 11, 9, 2, 0, 10, 6, 3, 7]   # 270° CW\n",
    "])\n",
    "\n",
    "def _canonical_rotation( array):\n",
    "    \"\"\"Find the lexicographically smallest rotation of a given array\"\"\"\n",
    "    rotated = [tuple(array[rotation]) for rotation in ROTATIONS]\n",
    "    return np.array(min(rotated))\n",
    "\n",
    "binary_combinations = list(product([0, 1], repeat=12))\n",
    "print(\"Total permutations for MCTSBot (0/1): \", len(binary_combinations))\n",
    "\n",
    "unique_patterns = set()\n",
    "for comb in binary_combinations:\n",
    "    array = np.array(comb)\n",
    "    canonical = _canonical_rotation(array)\n",
    "    unique_patterns.add(tuple(canonical))\n",
    "\n",
    "\n",
    "print(\"Size of state space for MCTSBot (0/1): \", len(unique_patterns))\n",
    "\n",
    "unique_patterns = set()\n",
    "\n",
    "permutations = list(product([-2, 0, 1], repeat=12))\n",
    "\n",
    "permutations_with_one_3 = []\n",
    "for i in range(12):\n",
    "    for perm in product([-2, 0, 1], repeat=11):\n",
    "        # Insert '3' at position i\n",
    "        new_perm = list(perm)\n",
    "        new_perm.insert(i, -1)\n",
    "        permutations_with_one_3.append(tuple(new_perm))\n",
    "\n",
    "# Combine both lists\n",
    "binary_combinations = permutations + permutations_with_one_3\n",
    "print(\"Total permutations for MCTSRicherBot (0/1): \", len(binary_combinations))\n",
    "\n",
    "unique_patterns = set()\n",
    "for comb in binary_combinations:\n",
    "    array = np.array(comb)\n",
    "    canonical = _canonical_rotation(array)\n",
    "    unique_patterns.add(tuple(canonical))\n",
    "\n",
    "print(\"Size of state space for MCTSRicherBot (-2/-1/0/1): \", len(unique_patterns))"
   ]
  },
  {
   "cell_type": "code",
   "execution_count": null,
   "metadata": {},
   "outputs": [],
   "source": [
    "richer_bot = MCTSRicherBot(board_size=BOARD_SIZE)\n",
    "data = []"
   ]
  },
  {
   "cell_type": "code",
   "execution_count": null,
   "metadata": {},
   "outputs": [],
   "source": [
    "for _ in range(30):\n",
    "    data.append(run_games([richer_bot, hb], 10000))"
   ]
  },
  {
   "cell_type": "code",
   "execution_count": null,
   "metadata": {},
   "outputs": [],
   "source": [
    "# Plot train performance\n",
    "data_flat = [i for l in data for i in l]\n",
    "data_array = np.array(data_flat)\n",
    "game_batch = 5\n",
    "batched = data_array[:(len(data_array) // game_batch)*game_batch].reshape(-1, game_batch)\n",
    "\n",
    "m = batched.mean(axis=1)\n",
    "lb = np.quantile(batched, .10, axis=1)\n",
    "ub = np.quantile(batched, .90, axis=1)\n",
    "\n",
    "plt.fill_between(range(len(lb)), lb, ub, color='lightgray', alpha=0.5, label='10th to 90th Percentile')\n",
    "plt.plot(m, label='mean')\n",
    "plt.ylabel('Win % against HeuristicBot')\n",
    "plt.xlabel(\"Batch, each batch contains {} games\".format(game_batch * 100))\n",
    "plt.title('Train Performance of MCTSRicherBot, One Train')"
   ]
  },
  {
   "cell_type": "code",
   "execution_count": null,
   "metadata": {},
   "outputs": [],
   "source": [
    "# Plot state visits\n",
    "bins = [1, 2, 10, 100, 1000, 1000000, 10000000]\n",
    "bin_labels = ['0', '1', '2', '3-10', '11-100', '101-1000', '1000+']\n",
    "\n",
    "# Count the number of keys in each bin\n",
    "counts, _ = np.histogram(list(richer_bot.STATS_MOVE_VISITED.values()), bins=bins)\n",
    "counts = [664497 - len(richer_bot.STATS_MOVE_VISITED)] + list(counts)\n",
    "\n",
    "plt.bar(bin_labels, counts, alpha=0.7)\n",
    "\n",
    "plt.xlabel('# of Visits to State')\n",
    "plt.ylabel('# of States (Log Scale)')\n",
    "plt.title('MCTSRicherBot, # of Move States by Visits')\n",
    "\n",
    "plt.yscale('log')\n",
    "plt.xticks(rotation=45)\n",
    "def format_ticks(x, pos):\n",
    "    return f'{int(x):,}'\n",
    "formatter = FuncFormatter(format_ticks)\n",
    "plt.gca().yaxis.set_major_formatter(formatter)\n",
    "plt.tight_layout()\n",
    "plt.show()"
   ]
  },
  {
   "cell_type": "markdown",
   "metadata": {},
   "source": [
    "## Training MCTSBiggerBot"
   ]
  },
  {
   "cell_type": "code",
   "execution_count": null,
   "metadata": {},
   "outputs": [],
   "source": [
    "# Count number of star states\n",
    "# And number of canonical rotations\n",
    "ROTATIONS = np.array([\n",
    "            [0, 1, 2, 3, 4, 5, 6, 7, 8, 9, 10, 11, 12, 13, 14, 15, 16, 17, 18, 19, 20, 21, 22, 23],  # 0° (no rotation)\n",
    "            [14, 8, 13, 19, 3, 7, 12, 18, 22, 0, 2, 6, 17, 21, 23, 1, 5, 11, 16, 20, 4, 10, 15, 9],  # 90° CW\n",
    "            [23, 22, 21, 20, 19, 18, 17, 16, 15, 14, 13, 12, 11, 10, 9, 8, 7, 6, 5, 4, 3, 2, 1, 0],  # 180° CW\n",
    "            [9, 15, 10, 4, 20, 16, 11, 5, 1, 23, 21, 17, 6, 2, 0, 22, 18, 12, 7, 3, 19, 13, 8, 14]   # 270° CW\n",
    "        ])\n",
    "\n",
    "\n",
    "unique_patterns = set()\n",
    "\n",
    "# Generate binary combinations on the fly - iterate over all possible bin numbers\n",
    "for i in range(2**24): \n",
    "    # Convert the number to binary representation with leading zeros\n",
    "    binary = [int(x) for x in f\"{i:0{24}b}\"]\n",
    "    array = np.array(binary)\n",
    "    \n",
    "    # Get the canonical rotation\n",
    "    canonical = _canonical_rotation(array)\n",
    "    \n",
    "    # Add the canonical pattern to the set\n",
    "    unique_patterns.add(tuple(canonical))\n",
    "\n",
    "print(len(unique_patterns))"
   ]
  },
  {
   "cell_type": "code",
   "execution_count": null,
   "metadata": {},
   "outputs": [],
   "source": [
    "bigger_bot = MCTSBiggerBot(board_size=BOARD_SIZE)\n",
    "data = []"
   ]
  },
  {
   "cell_type": "code",
   "execution_count": null,
   "metadata": {},
   "outputs": [],
   "source": [
    "for _ in range(30):\n",
    "    data.append(run_games([bigger_bot, hb], 10000))"
   ]
  },
  {
   "cell_type": "code",
   "execution_count": null,
   "metadata": {},
   "outputs": [],
   "source": [
    "# Plot train performance\n",
    "data_flat = [i for l in data for i in l]\n",
    "data_array = np.array(data_flat)\n",
    "game_batch = 5\n",
    "batched = data_array[:(len(data_array) // game_batch)*game_batch].reshape(-1, game_batch)\n",
    "\n",
    "m = batched.mean(axis=1)\n",
    "lb = np.quantile(batched, .10, axis=1)\n",
    "ub = np.quantile(batched, .90, axis=1)\n",
    "\n",
    "plt.fill_between(range(len(lb)), lb, ub, color='lightgray', alpha=0.5, label='10th to 90th Percentile')\n",
    "plt.plot(m, label='mean')\n",
    "plt.ylabel('Win % against HeuristicBot')\n",
    "plt.xlabel(\"Batch, each batch contains {} games\".format(game_batch * 100))\n",
    "plt.title('Train Performance of MCTSBiggerBot, One Train')"
   ]
  },
  {
   "cell_type": "code",
   "execution_count": null,
   "metadata": {},
   "outputs": [],
   "source": [
    "# Plot state visits\n",
    "bins = [1, 2, 10, 100, 1000, 1000000, 10000000]\n",
    "bin_labels = ['0', '1', '2', '3-10', '11-100', '101-1000', '1000+']\n",
    "\n",
    "# Count the number of keys in each bin\n",
    "counts, _ = np.histogram(list(bigger_bot.STATS_MOVE_VISITED.values()), bins=bins)\n",
    "counts = [4195360 - len(bigger_bot.STATS_MOVE_VISITED)] + list(counts)\n",
    "\n",
    "plt.bar(bin_labels, counts, alpha=0.7)\n",
    "\n",
    "plt.xlabel('# of Visits to State')\n",
    "plt.ylabel('# of States (Log Scale)')\n",
    "plt.title('MCTSBiggerBot, # of Move States by Visits')\n",
    "\n",
    "plt.yscale('log')\n",
    "plt.xticks(rotation=45)\n",
    "def format_ticks(x, pos):\n",
    "    return f'{int(x):,}'\n",
    "formatter = FuncFormatter(format_ticks)\n",
    "plt.gca().yaxis.set_major_formatter(formatter)\n",
    "plt.tight_layout()\n",
    "plt.show()"
   ]
  }
 ],
 "metadata": {
  "kernelspec": {
   "display_name": "Python 3",
   "language": "python",
   "name": "python3"
  },
  "language_info": {
   "codemirror_mode": {
    "name": "ipython",
    "version": 3
   },
   "file_extension": ".py",
   "mimetype": "text/x-python",
   "name": "python",
   "nbconvert_exporter": "python",
   "pygments_lexer": "ipython3",
   "version": "3.8.20"
  }
 },
 "nbformat": 4,
 "nbformat_minor": 2
}
